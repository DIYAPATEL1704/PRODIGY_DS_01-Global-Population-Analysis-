{
  "cells": [
    {
      "cell_type": "code",
      "execution_count": null,
      "metadata": {
        "colab": {
          "base_uri": "https://localhost:8080/"
        },
        "id": "YRoQGHFcMqeY",
        "outputId": "fc73378d-fb8d-49c2-a029-633cb18ea5d9"
      },
      "outputs": [
        {
          "ename": "",
          "evalue": "",
          "output_type": "error",
          "traceback": [
            "\u001b[1;31mRunning cells with 'Python 3.11.9' requires the ipykernel package.\n",
            "\u001b[1;31m<a href='command:jupyter.createPythonEnvAndSelectController'>Create a Python Environment</a> with the required packages.\n",
            "\u001b[1;31mOr install 'ipykernel' using the command: '\"c:/Users/Diya patel/AppData/Local/Microsoft/WindowsApps/python3.11.exe\" -m pip install ipykernel -U --user --force-reinstall'"
          ]
        }
      ],
      "source": [
        "# Install Plotly (only once)\n",
        "!pip install plotly\n"
      ]
    },
    {
      "cell_type": "code",
      "execution_count": null,
      "metadata": {},
      "outputs": [],
      "source": [
        "import plotly.io as pio\n",
        "pio.renderers.default = 'notebook'\n"
      ]
    },
    {
      "cell_type": "code",
      "execution_count": null,
      "metadata": {},
      "outputs": [],
      "source": [
        "import plotly.io as pio\n",
        "pio.renderers.default = \"notebook\"\n"
      ]
    },
    {
      "cell_type": "code",
      "execution_count": null,
      "metadata": {
        "id": "3uAvjJNEMxQk"
      },
      "outputs": [],
      "source": [
        "import pandas as pd\n",
        "import plotly.express as px\n",
        "\n",
        "# Load data (adjust path if uploaded differently)\n",
        "pop_df = pd.read_csv('API_SP.POP.TOTL_DS2_en_csv_v2_85220.csv', skiprows=4)\n",
        "meta_country = pd.read_csv('Metadata_Country_API_SP.POP.TOTL_DS2_en_csv_v2_85220.csv')\n"
      ]
    },
    {
      "cell_type": "code",
      "execution_count": null,
      "metadata": {
        "id": "OW8PPWgeNAPX"
      },
      "outputs": [],
      "source": [
        "# Convert to long format\n",
        "pop_melted = pop_df.melt(id_vars=['Country Name', 'Country Code', 'Indicator Name', 'Indicator Code'],\n",
        "                         var_name='Year', value_name='Population')\n",
        "\n",
        "# Clean\n",
        "pop_melted.dropna(subset=['Population'], inplace=True)\n",
        "pop_melted['Year'] = pop_melted['Year'].astype(int)\n",
        "\n",
        "# Merge region and income data\n",
        "pop_merged = pop_melted.merge(meta_country[['Country Code', 'Region', 'IncomeGroup']],\n",
        "                              on='Country Code', how='left')\n"
      ]
    },
    {
      "cell_type": "code",
      "execution_count": null,
      "metadata": {
        "colab": {
          "base_uri": "https://localhost:8080/",
          "height": 542
        },
        "id": "Eh9IDQkCND53",
        "outputId": "0a733b77-3a56-4314-dfaa-929be51790a3"
      },
      "outputs": [],
      "source": [
        "top10 = pop_merged[pop_merged['Year'] == 2022].sort_values(by='Population', ascending=False).head(10)\n",
        "\n",
        "fig = px.bar(top10, x='Country Name', y='Population',\n",
        "             color='Population', color_continuous_scale='Viridis',\n",
        "             title='🌍 Top 10 Populated Countries in 2022')\n",
        "\n",
        "fig.update_layout(template='plotly_white', xaxis_title='Country', yaxis_title='Population')\n",
        "fig.show()\n"
      ]
    },
    {
      "cell_type": "code",
      "execution_count": null,
      "metadata": {
        "colab": {
          "base_uri": "https://localhost:8080/",
          "height": 542
        },
        "id": "LUWPHXcONIQs",
        "outputId": "3e1c5b84-229e-4393-fdfb-4a7aafad8c06"
      },
      "outputs": [],
      "source": [
        "least10 = pop_merged[pop_merged['Year'] == 2022].sort_values(by='Population').head(10)\n",
        "\n",
        "fig = px.bar(least10, x='Country Name', y='Population',\n",
        "             color='Population', color_continuous_scale='Bluered',\n",
        "             title='🔹 Least 10 Populated Countries in 2022')\n",
        "\n",
        "fig.update_layout(template='plotly_white', xaxis_title='Country', yaxis_title='Population')\n",
        "fig.show()\n"
      ]
    },
    {
      "cell_type": "code",
      "execution_count": null,
      "metadata": {
        "colab": {
          "base_uri": "https://localhost:8080/",
          "height": 542
        },
        "id": "DjbiSFi1NLnJ",
        "outputId": "5d458132-4974-4e4e-838d-20223ce5b531"
      },
      "outputs": [],
      "source": [
        "fig = px.histogram(pop_merged[pop_merged['Year'] == 2022],\n",
        "                   x='Population', nbins=50,\n",
        "                   title='📊 Population Distribution Across Countries in 2022',\n",
        "                   color_discrete_sequence=['#00BFC4'])\n",
        "\n",
        "fig.update_layout(template='plotly_white', xaxis_title='Population', yaxis_title='Number of Countries')\n",
        "fig.show()\n"
      ]
    },
    {
      "cell_type": "code",
      "execution_count": null,
      "metadata": {
        "colab": {
          "base_uri": "https://localhost:8080/",
          "height": 542
        },
        "id": "rq5gpIynNPVg",
        "outputId": "e5c5f315-16ed-4a4b-940f-df0a337c21c1"
      },
      "outputs": [],
      "source": [
        "region_df = pop_merged[pop_merged['Year'] == 2022].groupby('Region')['Population'].sum().reset_index().dropna()\n",
        "\n",
        "fig = px.bar(region_df, x='Region', y='Population',\n",
        "             color='Population', color_continuous_scale='Cividis',\n",
        "             title='🌐 Total Population by Region in 2022')\n",
        "\n",
        "fig.update_layout(template='plotly_white', xaxis_title='Region', yaxis_title='Population')\n",
        "fig.show()\n"
      ]
    },
    {
      "cell_type": "code",
      "execution_count": null,
      "metadata": {
        "colab": {
          "base_uri": "https://localhost:8080/",
          "height": 542
        },
        "id": "V_nBAisINS1w",
        "outputId": "20ba5765-ce5d-4664-fdeb-c2617a8f243f"
      },
      "outputs": [],
      "source": [
        "country = 'India'\n",
        "india_df = pop_merged[pop_merged['Country Name'] == country].sort_values('Year')\n",
        "india_df['Growth Rate (%)'] = india_df['Population'].pct_change() * 100\n",
        "\n",
        "fig = px.line(india_df, x='Year', y='Growth Rate (%)',\n",
        "              title='📈 Yearly Population Growth Rate - India',\n",
        "              markers=True)\n",
        "\n",
        "fig.update_layout(template='plotly_white')\n",
        "fig.show()\n"
      ]
    }
  ],
  "metadata": {
    "colab": {
      "provenance": []
    },
    "kernelspec": {
      "display_name": "Python 3",
      "name": "python3"
    },
    "language_info": {
      "name": "python",
      "version": "3.11.9"
    }
  },
  "nbformat": 4,
  "nbformat_minor": 0
}
